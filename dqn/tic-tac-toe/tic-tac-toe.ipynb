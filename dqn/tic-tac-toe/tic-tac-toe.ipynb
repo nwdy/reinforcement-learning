{
 "cells": [
  {
   "cell_type": "code",
   "execution_count": null,
   "id": "1ad27a8d",
   "metadata": {},
   "outputs": [],
   "source": [
    "import numpy as np\n",
    "import torch\n",
    "import torch.nn as nn\n",
    "import torch.optim as optim\n",
    "import random\n",
    "from collections import deque\n",
    "import matplotlib.pyplot as plt"
   ]
  },
  {
   "cell_type": "code",
   "execution_count": null,
   "id": "0181add8",
   "metadata": {
    "execution": {
     "iopub.execute_input": "2024-11-07T14:34:39.850579Z",
     "iopub.status.busy": "2024-11-07T14:34:39.849958Z",
     "iopub.status.idle": "2024-11-07T14:44:24.979934Z",
     "shell.execute_reply": "2024-11-07T14:44:24.978462Z"
    },
    "papermill": {
     "duration": 585.139124,
     "end_time": "2024-11-07T14:44:24.983445",
     "exception": false,
     "start_time": "2024-11-07T14:34:39.844321",
     "status": "completed"
    },
    "tags": []
   },
   "outputs": [
    {
     "name": "stdout",
     "output_type": "stream",
     "text": [
      "Episode 1/10000\n"
     ]
    },
    {
     "name": "stderr",
     "output_type": "stream",
     "text": [
      "/var/folders/f8/jktmxjzx1234mld1q9_d0rph0000gp/T/ipykernel_30359/2461167333.py:151: UserWarning: Creating a tensor from a list of numpy.ndarrays is extremely slow. Please consider converting the list to a single numpy.ndarray with numpy.array() before converting to a tensor. (Triggered internally at /Users/runner/work/pytorch/pytorch/pytorch/torch/csrc/utils/tensor_new.cpp:281.)\n",
      "  features_states = torch.FloatTensor([FeatureExtractor(s.reshape(self.n, self.n)).extract_features() for s in states])\n"
     ]
    },
    {
     "name": "stdout",
     "output_type": "stream",
     "text": [
      "Episode 1001/10000\n",
      "Episode 2001/10000\n",
      "Episode 3001/10000\n",
      "Episode 4001/10000\n",
      "Episode 5001/10000\n",
      "Episode 6001/10000\n",
      "Episode 7001/10000\n",
      "Episode 8001/10000\n",
      "Episode 9001/10000\n"
     ]
    }
   ],
   "source": [
    "class TicTacToeEnv:\n",
    "    def __init__(self, n=3):\n",
    "        self.n = n\n",
    "        self.board = np.zeros((n, n), dtype=int)\n",
    "        self.reset()\n",
    "\n",
    "    def reset(self):\n",
    "        self.board = np.zeros((self.n, self.n), dtype=int)\n",
    "        return self.board\n",
    "\n",
    "    def available_actions(self):\n",
    "        return [(i, j) for i in range(self.n) for j in range(self.n) if self.board[i, j] == 0]\n",
    "\n",
    "    def make_move(self, row, col, player):\n",
    "        if self.board[row, col] == 0:\n",
    "            self.board[row, col] = player\n",
    "            return True\n",
    "        return False\n",
    "\n",
    "    def check_winner(self):\n",
    "        for i in range(self.n):\n",
    "            if np.all(self.board[i, :] == 1) or np.all(self.board[:, i] == 1):\n",
    "                return 1\n",
    "            if np.all(self.board[i, :] == -1) or np.all(self.board[:, i] == -1):\n",
    "                return -1\n",
    "\n",
    "        if np.all(np.diag(self.board) == 1) or np.all(np.diag(np.fliplr(self.board)) == 1):\n",
    "            return 1\n",
    "        if np.all(np.diag(self.board) == -1) or np.all(np.diag(np.fliplr(self.board)) == -1):\n",
    "            return -1\n",
    "\n",
    "        if not any(0 in row for row in self.board):\n",
    "            return 0\n",
    "\n",
    "        return None\n",
    "\n",
    "    def is_draw(self):\n",
    "        return not any(0 in row for row in self.board)\n",
    "\n",
    "    def get_state(self):\n",
    "        return self.board.flatten()\n",
    "\n",
    "class FeatureExtractor:\n",
    "    def __init__(self, board):\n",
    "        self.board = board\n",
    "        self.n = board.shape[0]\n",
    "\n",
    "    def count_features(self, symbol):\n",
    "        features = np.zeros(self.n)\n",
    "\n",
    "        for i in range(self.n):\n",
    "            row = self.board[i, :]\n",
    "            count = np.sum(row == symbol)\n",
    "            if count > 0 and np.sum(row != symbol) == self.n - count:\n",
    "                features[count - 1] += 1\n",
    "\n",
    "        for j in range(self.n):\n",
    "            col = self.board[:, j]\n",
    "            count = np.sum(col == symbol)\n",
    "            if count > 0 and np.sum(col != symbol) == self.n - count:\n",
    "                features[count - 1] += 1\n",
    "\n",
    "        diag1 = np.diag(self.board)\n",
    "        count_diag1 = np.sum(diag1 == symbol)\n",
    "        if count_diag1 > 0 and np.sum(diag1 != symbol) == self.n - count_diag1:\n",
    "            features[count_diag1 - 1] += 1\n",
    "\n",
    "        diag2 = np.diag(np.fliplr(self.board))\n",
    "        count_diag2 = np.sum(diag2 == symbol)\n",
    "        if count_diag2 > 0 and np.sum(diag2 != symbol) == self.n - count_diag2:\n",
    "            features[count_diag2 - 1] += 1\n",
    "\n",
    "        for i in range(self.n):\n",
    "            features[i] *= (i + 1) ** 2\n",
    "\n",
    "        return features\n",
    "\n",
    "    def extract_features(self):\n",
    "        agent_features = self.count_features(1)\n",
    "        opponent_features = self.count_features(-1)\n",
    "        features_matrix = np.array([agent_features, opponent_features]).flatten()\n",
    "\n",
    "        board_state = self.board.flatten()\n",
    "\n",
    "        combined_features = np.concatenate((features_matrix, board_state))\n",
    "\n",
    "        return combined_features    \n",
    "\n",
    "class DQN(nn.Module):\n",
    "    def __init__(self, input_size, output_size):\n",
    "        super(DQN, self).__init__()\n",
    "        self.fc1 = nn.Linear(input_size, 128)\n",
    "        self.fc2 = nn.Linear(128, 128)\n",
    "        self.fc3 = nn.Linear(128, output_size)\n",
    "\n",
    "    def forward(self, x):\n",
    "        x = torch.relu(self.fc1(x))\n",
    "        x = torch.relu(self.fc2(x))\n",
    "        x = self.fc3(x)\n",
    "        return x\n",
    "\n",
    "class DQNAgent:\n",
    "    def __init__(self, n=3, gamma=0.9, epsilon=1.0, epsilon_decay=0.995, min_epsilon=0.1, learning_rate=0.001):\n",
    "        self.n = n\n",
    "        self.gamma = gamma\n",
    "        self.epsilon = epsilon\n",
    "        self.epsilon_decay = epsilon_decay\n",
    "        self.min_epsilon = min_epsilon\n",
    "        input_size = (n+2)*n\n",
    "        self.model = DQN(input_size=input_size, output_size=n * n)  \n",
    "        self.target_model = DQN(input_size=input_size, output_size=n * n)\n",
    "        self.optimizer = optim.Adam(self.model.parameters(), lr=learning_rate)\n",
    "        self.criterion = nn.MSELoss()\n",
    "        self.memory = deque(maxlen=20000)\n",
    "        self.update_target_network()\n",
    "\n",
    "    def update_target_network(self):\n",
    "        self.target_model.load_state_dict(self.model.state_dict())\n",
    "\n",
    "    def store_transition(self, state, action, reward, next_state, done):\n",
    "        self.memory.append((state, action, reward, next_state, done))\n",
    "\n",
    "    def choose_action(self, state):\n",
    "        extractor = FeatureExtractor(state.reshape(self.n, self.n))\n",
    "        features = torch.FloatTensor(extractor.extract_features()).unsqueeze(0)\n",
    "        \n",
    "        if random.uniform(0, 1) < self.epsilon:\n",
    "            available_actions = [(i, j) for i in range(self.n) for j in range(self.n) if state[i * self.n + j] == 0]\n",
    "            return random.choice(available_actions)\n",
    "        else:\n",
    "            q_values = self.model(features).view(self.n, self.n)\n",
    "            available_actions = [(i, j) for i in range(self.n) for j in range(self.n) if state[i * self.n + j] == 0]\n",
    "            best_action = max(available_actions, key=lambda x: q_values[x[0], x[1]].item())\n",
    "            return best_action\n",
    "\n",
    "    def train(self, batch_size=64):\n",
    "        if len(self.memory) < batch_size:\n",
    "            return\n",
    "\n",
    "        batch = random.sample(self.memory, batch_size)\n",
    "        states, actions, rewards, next_states, dones = zip(*batch)\n",
    "\n",
    "        features_states = torch.FloatTensor([FeatureExtractor(s.reshape(self.n, self.n)).extract_features() for s in states])\n",
    "        features_next_states = torch.FloatTensor([FeatureExtractor(s.reshape(self.n, self.n)).extract_features() for s in next_states])\n",
    "        \n",
    "        rewards = torch.FloatTensor(rewards)\n",
    "        dones = torch.FloatTensor(dones)\n",
    "        \n",
    "        q_values = self.model(features_states)\n",
    "        next_q_values = self.target_model(features_next_states)\n",
    "\n",
    "        q_values = q_values.view(batch_size, self.n, self.n)\n",
    "\n",
    "        target_q_values = q_values.clone()\n",
    "        for i in range(batch_size):\n",
    "            action = actions[i]\n",
    "            target_q_values[i, action[0], action[1]] = rewards[i] + (1 - dones[i]) * self.gamma * next_q_values[i].max().item()\n",
    "\n",
    "        loss = self.criterion(q_values.view(batch_size, -1), target_q_values.view(batch_size, -1))\n",
    "        self.optimizer.zero_grad()\n",
    "        loss.backward()\n",
    "        self.optimizer.step()\n",
    "\n",
    "        if self.epsilon > self.min_epsilon:\n",
    "            self.epsilon *= self.epsilon_decay\n",
    "            \n",
    "    def save_model(self, path):\n",
    "        torch.save(self.model.state_dict(), path)\n",
    "\n",
    "    def load_model(self, path):\n",
    "        self.model.load_state_dict(torch.load(path))\n",
    "        self.update_target_network()\n",
    "\n",
    "def train_dqn(agent, env, episodes=1000, target_update=10):\n",
    "    for episode in range(episodes):\n",
    "        state = env.reset().flatten()\n",
    "        done = False\n",
    "        while not done:\n",
    "            action = agent.choose_action(state)\n",
    "            env.make_move(action[0], action[1], 1)\n",
    "            next_state = env.get_state()\n",
    "            reward = 0\n",
    "            winner = env.check_winner()\n",
    "\n",
    "            if winner == 1:\n",
    "                reward = 1\n",
    "                done = True\n",
    "            elif env.is_draw():\n",
    "                reward = 0\n",
    "                done = True\n",
    "            else:\n",
    "                available_actions = env.available_actions()\n",
    "                if available_actions:\n",
    "                    random_action = random.choice(available_actions)\n",
    "                    env.make_move(random_action[0], random_action[1], -1)\n",
    "                    winner = env.check_winner()\n",
    "                    next_state = env.get_state()\n",
    "                    \n",
    "                    if winner == -1:\n",
    "                        reward = -1\n",
    "                        done = True\n",
    "                    elif env.is_draw():\n",
    "                        reward = 0\n",
    "                        done = True\n",
    "                    else:\n",
    "                        reward = 0\n",
    "\n",
    "            agent.store_transition(state, action, reward, next_state, done)\n",
    "            state = next_state\n",
    "\n",
    "            if done:\n",
    "                agent.train(batch_size=64)\n",
    "\n",
    "        if episode % target_update == 0:\n",
    "            agent.update_target_network()\n",
    "        if episode % (episodes//10) == 0:\n",
    "            print(f\"Episode {episode + 1}/{episodes}\")\n",
    "env = TicTacToeEnv()\n",
    "agent = DQNAgent()\n",
    "\n",
    "train_dqn(agent, env, episodes=10000)\n"
   ]
  },
  {
   "cell_type": "code",
   "execution_count": 2,
   "id": "166378dd",
   "metadata": {
    "execution": {
     "iopub.execute_input": "2024-11-07T14:44:24.995318Z",
     "iopub.status.busy": "2024-11-07T14:44:24.994635Z",
     "iopub.status.idle": "2024-11-07T14:44:25.834606Z",
     "shell.execute_reply": "2024-11-07T14:44:25.833019Z"
    },
    "papermill": {
     "duration": 0.849909,
     "end_time": "2024-11-07T14:44:25.838200",
     "exception": false,
     "start_time": "2024-11-07T14:44:24.988291",
     "status": "completed"
    },
    "tags": []
   },
   "outputs": [
    {
     "data": {
      "image/png": "[encoded data removed]",
      "text/plain": [
       "<Figure size 640x480 with 1 Axes>"
      ]
     },
     "metadata": {},
     "output_type": "display_data"
    },
    {
     "name": "stdout",
     "output_type": "stream",
     "text": [
      "Win Rate: 23.00% | Draw Rate: 43.00% | Lose Rate: 34.00\n"
     ]
    }
   ],
   "source": [
    "def test_agent(agent, env, test_episodes=100):\n",
    "    win, draw, lose = 0, 0, 0\n",
    "    for episode in range(test_episodes):\n",
    "        state = env.reset().flatten()\n",
    "        done = False\n",
    "        while not done:\n",
    "            action = agent.choose_action(state)\n",
    "            env.make_move(action[0], action[1], 1)\n",
    "            next_state = env.get_state()\n",
    "            winner = env.check_winner()\n",
    "            if winner == 1:\n",
    "                win += 1\n",
    "                done = True\n",
    "            elif env.is_draw():\n",
    "                draw += 1\n",
    "                done = True\n",
    "\n",
    "            if not done:\n",
    "                available_actions = env.available_actions()\n",
    "                if available_actions:\n",
    "                    random_action = random.choice(available_actions)\n",
    "                    env.make_move(random_action[0], random_action[1], -1)\n",
    "                    winner = env.check_winner()\n",
    "                    if winner == -1:\n",
    "                        lose += 1\n",
    "                        done = True\n",
    "                    elif env.is_draw():\n",
    "                        draw += 1\n",
    "                        done = True\n",
    "\n",
    "            state = next_state\n",
    "\n",
    "    total_games = win + draw + lose\n",
    "    win_rate = win / total_games * 100\n",
    "    draw_rate = draw / total_games * 100\n",
    "    lose_rate = lose / total_games * 100\n",
    "\n",
    "    results = {'Win Rate': win_rate, 'Draw Rate': draw_rate, 'Lose Rate': lose_rate}\n",
    "    plt.bar(results.keys(), results.values())\n",
    "    plt.xlabel('Outcome')\n",
    "    plt.ylabel('Percentage')\n",
    "    plt.title('Agent Performance Against Random Opponent')\n",
    "    plt.show()\n",
    "\n",
    "    print(f\"Win Rate: {win_rate:.2f}% | Draw Rate: {draw_rate:.2f}% | Lose Rate: {lose_rate:.2f}\")\n",
    "    \n",
    "test_agent(agent, env, test_episodes=100)"
   ]
  },
  {
   "cell_type": "code",
   "execution_count": 3,
   "id": "d8bbba93",
   "metadata": {
    "execution": {
     "iopub.execute_input": "2024-11-07T14:44:25.850865Z",
     "iopub.status.busy": "2024-11-07T14:44:25.850349Z",
     "iopub.status.idle": "2024-11-07T14:56:53.670364Z",
     "shell.execute_reply": "2024-11-07T14:56:53.668992Z"
    },
    "papermill": {
     "duration": 747.83698,
     "end_time": "2024-11-07T14:56:53.680362",
     "exception": false,
     "start_time": "2024-11-07T14:44:25.843382",
     "status": "completed"
    },
    "tags": []
   },
   "outputs": [
    {
     "name": "stdout",
     "output_type": "stream",
     "text": [
      "Episode 1/10000\n",
      "Episode 1001/10000\n",
      "Episode 2001/10000\n",
      "Episode 3001/10000\n",
      "Episode 4001/10000\n",
      "Episode 5001/10000\n",
      "Episode 6001/10000\n",
      "Episode 7001/10000\n",
      "Episode 8001/10000\n",
      "Episode 9001/10000\n"
     ]
    },
    {
     "data": {
      "image/png": "[encoded data removed]",
      "text/plain": [
       "<Figure size 640x480 with 1 Axes>"
      ]
     },
     "metadata": {},
     "output_type": "display_data"
    },
    {
     "name": "stdout",
     "output_type": "stream",
     "text": [
      "Win Rate: 50.00% | Draw Rate: 29.00% | Lose Rate: 21.00\n"
     ]
    }
   ],
   "source": [
    "env = TicTacToeEnv(n=4)\n",
    "agent = DQNAgent(n=4)\n",
    "\n",
    "train_dqn(agent, env, episodes=10000)\n",
    "test_agent(agent, env, test_episodes=100)"
   ]
  },
  {
   "cell_type": "code",
   "execution_count": null,
   "id": "a0a20c99",
   "metadata": {
    "execution": {
     "iopub.execute_input": "2024-11-07T14:56:53.696528Z",
     "iopub.status.busy": "2024-11-07T14:56:53.696017Z",
     "iopub.status.idle": "2024-11-07T15:12:57.838747Z",
     "shell.execute_reply": "2024-11-07T15:12:57.837472Z"
    },
    "papermill": {
     "duration": 964.162545,
     "end_time": "2024-11-07T15:12:57.849626",
     "exception": false,
     "start_time": "2024-11-07T14:56:53.687081",
     "status": "completed"
    },
    "tags": []
   },
   "outputs": [],
   "source": [
    "env = TicTacToeEnv(n=5)\n",
    "agent = DQNAgent(n=5)\n",
    "\n",
    "train_dqn(agent, env, episodes=10000)\n",
    "test_agent(agent, env, test_episodes=100)"
   ]
  },
  {
   "cell_type": "code",
   "execution_count": null,
   "id": "7dad8592",
   "metadata": {},
   "outputs": [],
   "source": []
  }
 ],
 "metadata": {
  "kaggle": {
   "accelerator": "none",
   "dataSources": [],
   "dockerImageVersionId": 30786,
   "isGpuEnabled": false,
   "isInternetEnabled": true,
   "language": "python",
   "sourceType": "notebook"
  },
  "kernelspec": {
   "display_name": ".rl",
   "language": "python",
   "name": "python3"
  },
  "language_info": {
   "codemirror_mode": {
    "name": "ipython",
    "version": 3
   },
   "file_extension": ".py",
   "mimetype": "text/x-python",
   "name": "python",
   "nbconvert_exporter": "python",
   "pygments_lexer": "ipython3",
   "version": "3.9.6"
  },
  "papermill": {
   "default_parameters": {},
   "duration": 2304.82089,
   "end_time": "2024-11-07T15:13:00.526094",
   "environment_variables": {},
   "exception": null,
   "input_path": "__notebook__.ipynb",
   "output_path": "__notebook__.ipynb",
   "parameters": {},
   "start_time": "2024-11-07T14:34:35.705204",
   "version": "2.6.0"
  }
 },
 "nbformat": 4,
 "nbformat_minor": 5
}
